{
 "cells": [
  {
   "cell_type": "code",
   "execution_count": 5,
   "metadata": {
    "collapsed": false
   },
   "outputs": [
    {
     "data": {
      "text/plain": [
       "li_ikegami (generic function with 1 method)"
      ]
     },
     "execution_count": 5,
     "metadata": {},
     "output_type": "execute_result"
    }
   ],
   "source": [
    "# li_ikegami\n",
    "# gridを順番ばらばらでもいいようにした\n",
    "# grid sizeとvalue sizeが異なる時にerrorを吐くようにした\n",
    "# 範囲外の値をいれるとerror\n",
    "\n",
    "function li_ikegami(grid, vals)\n",
    "    n = length(grid)\n",
    "    m = length(vals)\n",
    "    \n",
    "    if n != m\n",
    "        print(\"grid size and value siza is not equal\")\n",
    "    end\n",
    "    \n",
    "    mat = [grid vals]\n",
    "    mat = sortrows(mat, by = x->(x[1]))\n",
    "    mat = transpose(mat)\n",
    "    \n",
    "    grid = mat[1, :]\n",
    "    vals = mat[2, :]\n",
    "    \n",
    "    slope = Array(Float64, n-1)\n",
    "    fill!(slope, 0.0)\n",
    "    for i in 1: (n-1)\n",
    "        temp_slope = (vals[i] - vals[i+1]) / (grid[i] - grid[i+1])\n",
    "        slope[i] = temp_slope\n",
    "    end\n",
    "    function approx(x_val)\n",
    "        \n",
    "        if x_val > maximum(grid)\n",
    "            return print(\"too big value ...\")\n",
    "        end\n",
    "        \n",
    "        if x_val < minimum(grid)\n",
    "            return print(\"too small value ...\")\n",
    "        end\n",
    "        \n",
    "        interval = 1\n",
    "        for j in 1:(n-1)\n",
    "            if x_val > grid[j+1]\n",
    "                interval += 1\n",
    "            else break\n",
    "            end\n",
    "        end\n",
    "        return slope[interval] * (x_val - grid[interval]) + vals[interval]\n",
    "    end            \n",
    "    return approx\n",
    "end"
   ]
  },
  {
   "cell_type": "code",
   "execution_count": 6,
   "metadata": {
    "collapsed": false
   },
   "outputs": [
    {
     "data": {
      "text/plain": [
       "1.5"
      ]
     },
     "execution_count": 6,
     "metadata": {},
     "output_type": "execute_result"
    }
   ],
   "source": [
    "grid = [1,2] \n",
    "vals = [2,0]\n",
    "f = li_ikegami(grid, vals)\n",
    "f(1.25)"
   ]
  },
  {
   "cell_type": "code",
   "execution_count": 10,
   "metadata": {
    "collapsed": false
   },
   "outputs": [
    {
     "name": "stdout",
     "output_type": "stream",
     "text": [
      "grid size and value siza is not equal"
     ]
    },
    {
     "ename": "LoadError",
     "evalue": "LoadError: DimensionMismatch(\"vectors must have same lengths\")\nwhile loading In[10], in expression starting on line 3",
     "output_type": "error",
     "traceback": [
      "LoadError: DimensionMismatch(\"vectors must have same lengths\")\nwhile loading In[10], in expression starting on line 3",
      ""
     ]
    }
   ],
   "source": [
    "grid2 = [1,2,6,4,5]\n",
    "vals2 = [3,2,3,1]\n",
    "g = li_ikegami(grid2, vals2)\n",
    "g(-1)"
   ]
  },
  {
   "cell_type": "code",
   "execution_count": 2,
   "metadata": {
    "collapsed": false
   },
   "outputs": [
    {
     "data": {
      "text/plain": [
       "1"
      ]
     },
     "execution_count": 2,
     "metadata": {},
     "output_type": "execute_result"
    }
   ],
   "source": [
    "a = [1,2,3]\n",
    "a[1]"
   ]
  },
  {
   "cell_type": "code",
   "execution_count": 9,
   "metadata": {
    "collapsed": false
   },
   "outputs": [
    {
     "data": {
      "text/plain": [
       "test (generic function with 1 method)"
      ]
     },
     "execution_count": 9,
     "metadata": {},
     "output_type": "execute_result"
    }
   ],
   "source": [
    "# お試し\n",
    "function test(n)\n",
    "    function test_2(m)\n",
    "        return m^n\n",
    "    return test_2\n",
    "    end\n",
    "end"
   ]
  },
  {
   "cell_type": "code",
   "execution_count": 10,
   "metadata": {
    "collapsed": false
   },
   "outputs": [
    {
     "data": {
      "text/plain": [
       "32"
      ]
     },
     "execution_count": 10,
     "metadata": {},
     "output_type": "execute_result"
    }
   ],
   "source": [
    "a = test(5)\n",
    "a(2)"
   ]
  },
  {
   "cell_type": "code",
   "execution_count": 52,
   "metadata": {
    "collapsed": false
   },
   "outputs": [
    {
     "data": {
      "text/plain": [
       "3-element Array{Float64,1}:\n",
       " 1.0         \n",
       " 2.18565e-314\n",
       " 2.18571e-314"
      ]
     },
     "execution_count": 52,
     "metadata": {},
     "output_type": "execute_result"
    }
   ],
   "source": [
    "b = Array(Float64, 3)\n",
    "b[1] = 1\n",
    "b"
   ]
  },
  {
   "cell_type": "code",
   "execution_count": 40,
   "metadata": {
    "collapsed": false
   },
   "outputs": [
    {
     "data": {
      "text/plain": [
       "2-element Array{Any,1}:\n",
       " 3\n",
       " 5"
      ]
     },
     "execution_count": 40,
     "metadata": {},
     "output_type": "execute_result"
    }
   ],
   "source": [
    "Array[3,5]"
   ]
  },
  {
   "cell_type": "code",
   "execution_count": 48,
   "metadata": {
    "collapsed": false
   },
   "outputs": [
    {
     "data": {
      "text/plain": [
       "2-element Array{Any,1}:\n",
       "  Float64\n",
       " 3       "
      ]
     },
     "execution_count": 48,
     "metadata": {},
     "output_type": "execute_result"
    }
   ],
   "source": [
    "Any[Float64, 3]"
   ]
  },
  {
   "cell_type": "code",
   "execution_count": 57,
   "metadata": {
    "collapsed": false
   },
   "outputs": [
    {
     "data": {
      "text/plain": [
       "1-element Array{Any,1}:\n",
       " 4"
      ]
     },
     "execution_count": 57,
     "metadata": {},
     "output_type": "execute_result"
    }
   ],
   "source": [
    "Any[4]"
   ]
  },
  {
   "cell_type": "code",
   "execution_count": 63,
   "metadata": {
    "collapsed": false
   },
   "outputs": [
    {
     "ename": "LoadError",
     "evalue": "LoadError: MethodError: `convert` has no method matching convert(::Type{Array{T,N}}, ::Type{Float64})\nThis may have arisen from a call to the constructor Array{T,N}(...),\nsince type constructors fall back to convert methods.\nClosest candidates are:\n  Array{T,N}(::Type{T}, !Matched::NTuple{N,Int64})\n  Array{T}(::Type{T}, !Matched::Integer)\n  Array{T}(::Type{T}, !Matched::Integer, !Matched::Integer)\n  ...\nwhile loading In[63], in expression starting on line 1",
     "output_type": "error",
     "traceback": [
      "LoadError: MethodError: `convert` has no method matching convert(::Type{Array{T,N}}, ::Type{Float64})\nThis may have arisen from a call to the constructor Array{T,N}(...),\nsince type constructors fall back to convert methods.\nClosest candidates are:\n  Array{T,N}(::Type{T}, !Matched::NTuple{N,Int64})\n  Array{T}(::Type{T}, !Matched::Integer)\n  Array{T}(::Type{T}, !Matched::Integer, !Matched::Integer)\n  ...\nwhile loading In[63], in expression starting on line 1",
      "",
      " in getindex at array.jl:167"
     ]
    }
   ],
   "source": [
    "Array[Float64][2,4]"
   ]
  },
  {
   "cell_type": "code",
   "execution_count": 70,
   "metadata": {
    "collapsed": false
   },
   "outputs": [
    {
     "data": {
      "text/plain": [
       "10-element Array{Float64,1}:\n",
       " 5.80441e286 \n",
       " 1.29092e295 \n",
       " 3.57723e-57 \n",
       " 3.06927e223 \n",
       " 7.94633e-61 \n",
       " 1.29092e295 \n",
       " 5.12099e-320\n",
       " 0.0         \n",
       " 0.0         \n",
       " 0.0         "
      ]
     },
     "execution_count": 70,
     "metadata": {},
     "output_type": "execute_result"
    }
   ],
   "source": [
    "Array(Float64, 10)"
   ]
  },
  {
   "cell_type": "code",
   "execution_count": 84,
   "metadata": {
    "collapsed": false
   },
   "outputs": [
    {
     "data": {
      "text/plain": [
       "11-element Array{Float64,1}:\n",
       " 1.0\n",
       " 1.0\n",
       " 1.0\n",
       " 1.0\n",
       " 1.0\n",
       " 1.0\n",
       " 1.0\n",
       " 1.0\n",
       " 1.0\n",
       " 1.0\n",
       " 1.0"
      ]
     },
     "execution_count": 84,
     "metadata": {},
     "output_type": "execute_result"
    }
   ],
   "source": [
    "slope = Array(Float64, 11)\n",
    "fill!(slope, 1.0)"
   ]
  },
  {
   "cell_type": "code",
   "execution_count": 109,
   "metadata": {
    "collapsed": false
   },
   "outputs": [
    {
     "data": {
      "text/plain": [
       "2x2 Array{Int64,2}:\n",
       " 1  2\n",
       " 2  0"
      ]
     },
     "execution_count": 109,
     "metadata": {},
     "output_type": "execute_result"
    }
   ],
   "source": [
    "grid = [1,2] \n",
    "vals = [2,0]\n",
    "mat = [grid vals]\n",
    "mat"
   ]
  },
  {
   "cell_type": "code",
   "execution_count": 97,
   "metadata": {
    "collapsed": false
   },
   "outputs": [
    {
     "data": {
      "text/plain": [
       "2-element Array{Int64,1}:\n",
       " 0\n",
       " 2"
      ]
     },
     "execution_count": 97,
     "metadata": {},
     "output_type": "execute_result"
    }
   ],
   "source": [
    "sort(vals)"
   ]
  },
  {
   "cell_type": "code",
   "execution_count": 101,
   "metadata": {
    "collapsed": false
   },
   "outputs": [
    {
     "data": {
      "text/plain": [
       "100x4 Array{Float64,2}:\n",
       "  0.0   0.0  -0.0   1.0\n",
       " -0.0  -1.0  -1.0   0.0\n",
       " -0.0   0.0   1.0   0.0\n",
       "  1.0  -1.0   0.0  -0.0\n",
       "  1.0  -1.0   1.0  -0.0\n",
       " -0.0  -0.0  -0.0   1.0\n",
       " -2.0   0.0   0.0   0.0\n",
       " -1.0   2.0   1.0   0.0\n",
       "  1.0  -2.0  -2.0   1.0\n",
       " -1.0   2.0   1.0   0.0\n",
       "  2.0  -0.0   1.0  -1.0\n",
       " -1.0  -0.0   0.0  -1.0\n",
       " -1.0  -2.0  -2.0   1.0\n",
       "  ⋮                    \n",
       "  1.0  -2.0   0.0  -1.0\n",
       " -0.0  -0.0  -1.0  -2.0\n",
       " -3.0   1.0   0.0   0.0\n",
       " -1.0   0.0   2.0   1.0\n",
       "  1.0   2.0   1.0   0.0\n",
       " -1.0  -1.0   1.0   0.0\n",
       " -0.0  -1.0  -0.0  -1.0\n",
       "  1.0   2.0   1.0   3.0\n",
       " -1.0   2.0  -1.0   2.0\n",
       " -0.0   1.0   1.0   0.0\n",
       "  1.0   1.0   0.0  -1.0\n",
       "  1.0  -3.0  -0.0   1.0"
      ]
     },
     "execution_count": 101,
     "metadata": {},
     "output_type": "execute_result"
    }
   ],
   "source": [
    "# round はおそらく丸め込み\n",
    "A = round(randn(100,4))"
   ]
  },
  {
   "cell_type": "code",
   "execution_count": 102,
   "metadata": {
    "collapsed": false
   },
   "outputs": [
    {
     "data": {
      "text/plain": [
       "2x3 Array{Float64,2}:\n",
       " 0.496597  -0.169945  1.80949 \n",
       " 0.222282   0.783163  0.495988"
      ]
     },
     "execution_count": 102,
     "metadata": {},
     "output_type": "execute_result"
    }
   ],
   "source": [
    "sortrows(randn(2,3), by=x -> (x[2]))"
   ]
  },
  {
   "cell_type": "code",
   "execution_count": 106,
   "metadata": {
    "collapsed": false
   },
   "outputs": [
    {
     "data": {
      "text/plain": [
       "2x3 Array{Float64,2}:\n",
       " -0.144787   -0.609347  0.7378  \n",
       " -0.0878836  -1.30798   0.379081"
      ]
     },
     "execution_count": 106,
     "metadata": {},
     "output_type": "execute_result"
    }
   ],
   "source": [
    "seed = 1234\n",
    "randn(2,3)"
   ]
  },
  {
   "cell_type": "code",
   "execution_count": 107,
   "metadata": {
    "collapsed": false
   },
   "outputs": [
    {
     "data": {
      "text/plain": [
       "2x3 Array{Float64,2}:\n",
       "  0.987639  0.892506  -1.68416 \n",
       " -1.47808   0.908685  -0.157456"
      ]
     },
     "execution_count": 107,
     "metadata": {},
     "output_type": "execute_result"
    }
   ],
   "source": [
    "seed = 1234\n",
    "sortrows(randn(2,3), by=x -> (x[2]))"
   ]
  },
  {
   "cell_type": "code",
   "execution_count": 125,
   "metadata": {
    "collapsed": false
   },
   "outputs": [
    {
     "data": {
      "text/plain": [
       "5x2 Array{Int64,2}:\n",
       " 1  3\n",
       " 2  2\n",
       " 3  3\n",
       " 4  5\n",
       " 5  1"
      ]
     },
     "execution_count": 125,
     "metadata": {},
     "output_type": "execute_result"
    }
   ],
   "source": [
    "# これでいけるね\n",
    "# この後transposeすれば良い\n",
    "grid2 = [1,2,3,5,4]\n",
    "vals2 = [3,2,3,1,5]\n",
    "mat = [grid2 vals2]\n",
    "mat = sortrows(mat, by=x->(x[1]))"
   ]
  },
  {
   "cell_type": "code",
   "execution_count": 132,
   "metadata": {
    "collapsed": false
   },
   "outputs": [
    {
     "data": {
      "text/plain": [
       "1x2 Array{Int64,2}:\n",
       " 1  3"
      ]
     },
     "execution_count": 132,
     "metadata": {},
     "output_type": "execute_result"
    }
   ],
   "source": [
    "# 行の取り出し方\n",
    "mat[1, :]"
   ]
  },
  {
   "cell_type": "code",
   "execution_count": 4,
   "metadata": {
    "collapsed": false
   },
   "outputs": [
    {
     "data": {
      "text/plain": [
       "3"
      ]
     },
     "execution_count": 4,
     "metadata": {},
     "output_type": "execute_result"
    }
   ],
   "source": [
    "a = [3,2,1]\n",
    "maximum(a)"
   ]
  },
  {
   "cell_type": "code",
   "execution_count": null,
   "metadata": {
    "collapsed": true
   },
   "outputs": [],
   "source": []
  }
 ],
 "metadata": {
  "kernelspec": {
   "display_name": "Julia 0.4.5",
   "language": "julia",
   "name": "julia-0.4"
  },
  "language_info": {
   "file_extension": ".jl",
   "mimetype": "application/julia",
   "name": "julia",
   "version": "0.4.5"
  }
 },
 "nbformat": 4,
 "nbformat_minor": 0
}
